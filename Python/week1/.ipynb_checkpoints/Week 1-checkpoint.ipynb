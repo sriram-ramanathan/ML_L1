{
 "cells": [
  {
   "cell_type": "markdown",
   "metadata": {},
   "source": [
    "# Intro to Data Exploration\n",
    "\n",
    "\n",
    "---"
   ]
  },
  {
   "cell_type": "code",
   "execution_count": 13,
   "metadata": {
    "collapsed": true
   },
   "outputs": [],
   "source": [
    "import numpy as np\n",
    "import pandas as pd\n",
    "import seaborn as sns\n",
    "import matplotlib.pyplot as plt\n",
    "%matplotlib inline"
   ]
  },
  {
   "cell_type": "code",
   "execution_count": 14,
   "metadata": {
    "collapsed": true
   },
   "outputs": [],
   "source": [
    "#Load the data\n",
    "df = pd.read_csv('deliveries_1.csv')"
   ]
  },
  {
   "cell_type": "markdown",
   "metadata": {},
   "source": [
    "### **1. Basic Information about the data**"
   ]
  },
  {
   "cell_type": "code",
   "execution_count": 8,
   "metadata": {},
   "outputs": [
    {
     "data": {
      "text/plain": [
       "(136598, 22)"
      ]
     },
     "execution_count": 8,
     "metadata": {},
     "output_type": "execute_result"
    }
   ],
   "source": [
    "df.shape #number of rows and columns"
   ]
  },
  {
   "cell_type": "code",
   "execution_count": 10,
   "metadata": {},
   "outputs": [
    {
     "data": {
      "text/plain": [
       "Index(['match_id', 'year', 'inning', 'batting_team', 'bowling_team', 'over',\n",
       "       'ball', 'batsman', 'non_striker', 'bowler', 'is_super_over',\n",
       "       'wide_runs', 'bye_runs', 'legbye_runs', 'noball_runs', 'penalty_runs',\n",
       "       'batsman_runs', 'extra_runs', 'total_runs', 'player_dismissed',\n",
       "       'dismissal_kind', 'fielder'],\n",
       "      dtype='object')"
      ]
     },
     "execution_count": 10,
     "metadata": {},
     "output_type": "execute_result"
    }
   ],
   "source": [
    "df.columns #names of all the columns"
   ]
  },
  {
   "cell_type": "code",
   "execution_count": 11,
   "metadata": {},
   "outputs": [
    {
     "data": {
      "text/plain": [
       "match_id             int64\n",
       "year                 int64\n",
       "inning               int64\n",
       "batting_team        object\n",
       "bowling_team        object\n",
       "over                 int64\n",
       "ball                 int64\n",
       "batsman             object\n",
       "non_striker         object\n",
       "bowler              object\n",
       "is_super_over        int64\n",
       "wide_runs            int64\n",
       "bye_runs             int64\n",
       "legbye_runs          int64\n",
       "noball_runs          int64\n",
       "penalty_runs         int64\n",
       "batsman_runs         int64\n",
       "extra_runs           int64\n",
       "total_runs           int64\n",
       "player_dismissed    object\n",
       "dismissal_kind      object\n",
       "fielder             object\n",
       "dtype: object"
      ]
     },
     "execution_count": 11,
     "metadata": {},
     "output_type": "execute_result"
    }
   ],
   "source": [
    "df.dtypes # datatypes of all the columns"
   ]
  },
  {
   "cell_type": "code",
   "execution_count": 16,
   "metadata": {},
   "outputs": [
    {
     "data": {
      "text/html": [
       "<div>\n",
       "<style>\n",
       "    .dataframe thead tr:only-child th {\n",
       "        text-align: right;\n",
       "    }\n",
       "\n",
       "    .dataframe thead th {\n",
       "        text-align: left;\n",
       "    }\n",
       "\n",
       "    .dataframe tbody tr th {\n",
       "        vertical-align: top;\n",
       "    }\n",
       "</style>\n",
       "<table border=\"1\" class=\"dataframe\">\n",
       "  <thead>\n",
       "    <tr style=\"text-align: right;\">\n",
       "      <th></th>\n",
       "      <th>match_id</th>\n",
       "      <th>year</th>\n",
       "      <th>inning</th>\n",
       "      <th>batting_team</th>\n",
       "      <th>bowling_team</th>\n",
       "      <th>over</th>\n",
       "      <th>ball</th>\n",
       "      <th>batsman</th>\n",
       "      <th>non_striker</th>\n",
       "      <th>bowler</th>\n",
       "      <th>...</th>\n",
       "      <th>bye_runs</th>\n",
       "      <th>legbye_runs</th>\n",
       "      <th>noball_runs</th>\n",
       "      <th>penalty_runs</th>\n",
       "      <th>batsman_runs</th>\n",
       "      <th>extra_runs</th>\n",
       "      <th>total_runs</th>\n",
       "      <th>player_dismissed</th>\n",
       "      <th>dismissal_kind</th>\n",
       "      <th>fielder</th>\n",
       "    </tr>\n",
       "  </thead>\n",
       "  <tbody>\n",
       "    <tr>\n",
       "      <th>0</th>\n",
       "      <td>1</td>\n",
       "      <td>2008</td>\n",
       "      <td>1</td>\n",
       "      <td>Kolkata Knight Riders</td>\n",
       "      <td>Royal Challengers Bangalore</td>\n",
       "      <td>1</td>\n",
       "      <td>1</td>\n",
       "      <td>SC Ganguly</td>\n",
       "      <td>BB McCullum</td>\n",
       "      <td>P Kumar</td>\n",
       "      <td>...</td>\n",
       "      <td>0</td>\n",
       "      <td>1</td>\n",
       "      <td>0</td>\n",
       "      <td>0</td>\n",
       "      <td>0</td>\n",
       "      <td>1</td>\n",
       "      <td>1</td>\n",
       "      <td>NaN</td>\n",
       "      <td>NaN</td>\n",
       "      <td>NaN</td>\n",
       "    </tr>\n",
       "    <tr>\n",
       "      <th>1</th>\n",
       "      <td>1</td>\n",
       "      <td>2008</td>\n",
       "      <td>1</td>\n",
       "      <td>Kolkata Knight Riders</td>\n",
       "      <td>Royal Challengers Bangalore</td>\n",
       "      <td>1</td>\n",
       "      <td>2</td>\n",
       "      <td>BB McCullum</td>\n",
       "      <td>SC Ganguly</td>\n",
       "      <td>P Kumar</td>\n",
       "      <td>...</td>\n",
       "      <td>0</td>\n",
       "      <td>0</td>\n",
       "      <td>0</td>\n",
       "      <td>0</td>\n",
       "      <td>0</td>\n",
       "      <td>0</td>\n",
       "      <td>0</td>\n",
       "      <td>NaN</td>\n",
       "      <td>NaN</td>\n",
       "      <td>NaN</td>\n",
       "    </tr>\n",
       "    <tr>\n",
       "      <th>2</th>\n",
       "      <td>1</td>\n",
       "      <td>2008</td>\n",
       "      <td>1</td>\n",
       "      <td>Kolkata Knight Riders</td>\n",
       "      <td>Royal Challengers Bangalore</td>\n",
       "      <td>1</td>\n",
       "      <td>3</td>\n",
       "      <td>BB McCullum</td>\n",
       "      <td>SC Ganguly</td>\n",
       "      <td>P Kumar</td>\n",
       "      <td>...</td>\n",
       "      <td>0</td>\n",
       "      <td>0</td>\n",
       "      <td>0</td>\n",
       "      <td>0</td>\n",
       "      <td>0</td>\n",
       "      <td>1</td>\n",
       "      <td>1</td>\n",
       "      <td>NaN</td>\n",
       "      <td>NaN</td>\n",
       "      <td>NaN</td>\n",
       "    </tr>\n",
       "    <tr>\n",
       "      <th>3</th>\n",
       "      <td>1</td>\n",
       "      <td>2008</td>\n",
       "      <td>1</td>\n",
       "      <td>Kolkata Knight Riders</td>\n",
       "      <td>Royal Challengers Bangalore</td>\n",
       "      <td>1</td>\n",
       "      <td>4</td>\n",
       "      <td>BB McCullum</td>\n",
       "      <td>SC Ganguly</td>\n",
       "      <td>P Kumar</td>\n",
       "      <td>...</td>\n",
       "      <td>0</td>\n",
       "      <td>0</td>\n",
       "      <td>0</td>\n",
       "      <td>0</td>\n",
       "      <td>0</td>\n",
       "      <td>0</td>\n",
       "      <td>0</td>\n",
       "      <td>NaN</td>\n",
       "      <td>NaN</td>\n",
       "      <td>NaN</td>\n",
       "    </tr>\n",
       "    <tr>\n",
       "      <th>4</th>\n",
       "      <td>1</td>\n",
       "      <td>2008</td>\n",
       "      <td>1</td>\n",
       "      <td>Kolkata Knight Riders</td>\n",
       "      <td>Royal Challengers Bangalore</td>\n",
       "      <td>1</td>\n",
       "      <td>5</td>\n",
       "      <td>BB McCullum</td>\n",
       "      <td>SC Ganguly</td>\n",
       "      <td>P Kumar</td>\n",
       "      <td>...</td>\n",
       "      <td>0</td>\n",
       "      <td>0</td>\n",
       "      <td>0</td>\n",
       "      <td>0</td>\n",
       "      <td>0</td>\n",
       "      <td>0</td>\n",
       "      <td>0</td>\n",
       "      <td>NaN</td>\n",
       "      <td>NaN</td>\n",
       "      <td>NaN</td>\n",
       "    </tr>\n",
       "  </tbody>\n",
       "</table>\n",
       "<p>5 rows × 22 columns</p>\n",
       "</div>"
      ],
      "text/plain": [
       "   match_id  year  inning           batting_team                 bowling_team  \\\n",
       "0         1  2008       1  Kolkata Knight Riders  Royal Challengers Bangalore   \n",
       "1         1  2008       1  Kolkata Knight Riders  Royal Challengers Bangalore   \n",
       "2         1  2008       1  Kolkata Knight Riders  Royal Challengers Bangalore   \n",
       "3         1  2008       1  Kolkata Knight Riders  Royal Challengers Bangalore   \n",
       "4         1  2008       1  Kolkata Knight Riders  Royal Challengers Bangalore   \n",
       "\n",
       "   over  ball      batsman  non_striker   bowler   ...    bye_runs  \\\n",
       "0     1     1   SC Ganguly  BB McCullum  P Kumar   ...           0   \n",
       "1     1     2  BB McCullum   SC Ganguly  P Kumar   ...           0   \n",
       "2     1     3  BB McCullum   SC Ganguly  P Kumar   ...           0   \n",
       "3     1     4  BB McCullum   SC Ganguly  P Kumar   ...           0   \n",
       "4     1     5  BB McCullum   SC Ganguly  P Kumar   ...           0   \n",
       "\n",
       "   legbye_runs  noball_runs  penalty_runs  batsman_runs  extra_runs  \\\n",
       "0            1            0             0             0           1   \n",
       "1            0            0             0             0           0   \n",
       "2            0            0             0             0           1   \n",
       "3            0            0             0             0           0   \n",
       "4            0            0             0             0           0   \n",
       "\n",
       "   total_runs  player_dismissed  dismissal_kind fielder  \n",
       "0           1               NaN             NaN     NaN  \n",
       "1           0               NaN             NaN     NaN  \n",
       "2           1               NaN             NaN     NaN  \n",
       "3           0               NaN             NaN     NaN  \n",
       "4           0               NaN             NaN     NaN  \n",
       "\n",
       "[5 rows x 22 columns]"
      ]
     },
     "execution_count": 16,
     "metadata": {},
     "output_type": "execute_result"
    }
   ],
   "source": [
    "df.head() #prints the first five rows of the data"
   ]
  },
  {
   "cell_type": "code",
   "execution_count": 17,
   "metadata": {},
   "outputs": [
    {
     "data": {
      "text/plain": [
       "0    1\n",
       "1    0\n",
       "2    0\n",
       "3    0\n",
       "4    0\n",
       "Name: legbye_runs, dtype: int64"
      ]
     },
     "execution_count": 17,
     "metadata": {},
     "output_type": "execute_result"
    }
   ],
   "source": [
    "df['legbye_runs'].head() # access single column of the data"
   ]
  },
  {
   "cell_type": "code",
   "execution_count": 15,
   "metadata": {},
   "outputs": [
    {
     "data": {
      "text/plain": [
       "match_id                 0\n",
       "year                     0\n",
       "inning                   0\n",
       "batting_team             0\n",
       "bowling_team             0\n",
       "over                     0\n",
       "ball                     0\n",
       "batsman                  0\n",
       "non_striker              0\n",
       "bowler                   0\n",
       "is_super_over            0\n",
       "wide_runs                0\n",
       "bye_runs                 0\n",
       "legbye_runs              0\n",
       "noball_runs              0\n",
       "penalty_runs             0\n",
       "batsman_runs             0\n",
       "extra_runs               0\n",
       "total_runs               0\n",
       "player_dismissed    129871\n",
       "dismissal_kind      129871\n",
       "fielder             131727\n",
       "dtype: int64"
      ]
     },
     "execution_count": 15,
     "metadata": {},
     "output_type": "execute_result"
    }
   ],
   "source": [
    "df.isnull().sum() # number of missing values in each column"
   ]
  },
  {
   "cell_type": "markdown",
   "metadata": {},
   "source": [
    "### 2. Univariate Analysis"
   ]
  },
  {
   "cell_type": "markdown",
   "metadata": {},
   "source": [
    "**For Continuous variables**"
   ]
  },
  {
   "cell_type": "code",
   "execution_count": 19,
   "metadata": {},
   "outputs": [
    {
     "data": {
      "text/html": [
       "<div>\n",
       "<style>\n",
       "    .dataframe thead tr:only-child th {\n",
       "        text-align: right;\n",
       "    }\n",
       "\n",
       "    .dataframe thead th {\n",
       "        text-align: left;\n",
       "    }\n",
       "\n",
       "    .dataframe tbody tr th {\n",
       "        vertical-align: top;\n",
       "    }\n",
       "</style>\n",
       "<table border=\"1\" class=\"dataframe\">\n",
       "  <thead>\n",
       "    <tr style=\"text-align: right;\">\n",
       "      <th></th>\n",
       "      <th>match_id</th>\n",
       "      <th>year</th>\n",
       "      <th>inning</th>\n",
       "      <th>over</th>\n",
       "      <th>ball</th>\n",
       "      <th>is_super_over</th>\n",
       "      <th>wide_runs</th>\n",
       "      <th>bye_runs</th>\n",
       "      <th>legbye_runs</th>\n",
       "      <th>noball_runs</th>\n",
       "      <th>penalty_runs</th>\n",
       "      <th>batsman_runs</th>\n",
       "      <th>extra_runs</th>\n",
       "      <th>total_runs</th>\n",
       "    </tr>\n",
       "  </thead>\n",
       "  <tbody>\n",
       "    <tr>\n",
       "      <th>count</th>\n",
       "      <td>136598.000000</td>\n",
       "      <td>136598.000000</td>\n",
       "      <td>136598.000000</td>\n",
       "      <td>136598.000000</td>\n",
       "      <td>136598.000000</td>\n",
       "      <td>136598.000000</td>\n",
       "      <td>136598.000000</td>\n",
       "      <td>136598.000000</td>\n",
       "      <td>136598.000000</td>\n",
       "      <td>136598.000000</td>\n",
       "      <td>136598.000000</td>\n",
       "      <td>136598.000000</td>\n",
       "      <td>136598.000000</td>\n",
       "      <td>136598.000000</td>\n",
       "    </tr>\n",
       "    <tr>\n",
       "      <th>mean</th>\n",
       "      <td>288.564679</td>\n",
       "      <td>2012.024407</td>\n",
       "      <td>1.482738</td>\n",
       "      <td>10.144585</td>\n",
       "      <td>3.617125</td>\n",
       "      <td>0.000498</td>\n",
       "      <td>0.037782</td>\n",
       "      <td>0.004978</td>\n",
       "      <td>0.022372</td>\n",
       "      <td>0.004480</td>\n",
       "      <td>0.000073</td>\n",
       "      <td>1.215311</td>\n",
       "      <td>0.069686</td>\n",
       "      <td>1.284997</td>\n",
       "    </tr>\n",
       "    <tr>\n",
       "      <th>std</th>\n",
       "      <td>165.929865</td>\n",
       "      <td>2.475356</td>\n",
       "      <td>0.501575</td>\n",
       "      <td>5.673901</td>\n",
       "      <td>1.808200</td>\n",
       "      <td>0.022306</td>\n",
       "      <td>0.260535</td>\n",
       "      <td>0.115512</td>\n",
       "      <td>0.201309</td>\n",
       "      <td>0.074062</td>\n",
       "      <td>0.019132</td>\n",
       "      <td>1.589654</td>\n",
       "      <td>0.353357</td>\n",
       "      <td>1.579014</td>\n",
       "    </tr>\n",
       "    <tr>\n",
       "      <th>min</th>\n",
       "      <td>1.000000</td>\n",
       "      <td>2008.000000</td>\n",
       "      <td>1.000000</td>\n",
       "      <td>1.000000</td>\n",
       "      <td>1.000000</td>\n",
       "      <td>0.000000</td>\n",
       "      <td>0.000000</td>\n",
       "      <td>0.000000</td>\n",
       "      <td>0.000000</td>\n",
       "      <td>0.000000</td>\n",
       "      <td>0.000000</td>\n",
       "      <td>0.000000</td>\n",
       "      <td>0.000000</td>\n",
       "      <td>0.000000</td>\n",
       "    </tr>\n",
       "    <tr>\n",
       "      <th>25%</th>\n",
       "      <td>145.000000</td>\n",
       "      <td>2010.000000</td>\n",
       "      <td>1.000000</td>\n",
       "      <td>5.000000</td>\n",
       "      <td>2.000000</td>\n",
       "      <td>0.000000</td>\n",
       "      <td>0.000000</td>\n",
       "      <td>0.000000</td>\n",
       "      <td>0.000000</td>\n",
       "      <td>0.000000</td>\n",
       "      <td>0.000000</td>\n",
       "      <td>0.000000</td>\n",
       "      <td>0.000000</td>\n",
       "      <td>0.000000</td>\n",
       "    </tr>\n",
       "    <tr>\n",
       "      <th>50%</th>\n",
       "      <td>289.000000</td>\n",
       "      <td>2012.000000</td>\n",
       "      <td>1.000000</td>\n",
       "      <td>10.000000</td>\n",
       "      <td>4.000000</td>\n",
       "      <td>0.000000</td>\n",
       "      <td>0.000000</td>\n",
       "      <td>0.000000</td>\n",
       "      <td>0.000000</td>\n",
       "      <td>0.000000</td>\n",
       "      <td>0.000000</td>\n",
       "      <td>1.000000</td>\n",
       "      <td>0.000000</td>\n",
       "      <td>1.000000</td>\n",
       "    </tr>\n",
       "    <tr>\n",
       "      <th>75%</th>\n",
       "      <td>432.000000</td>\n",
       "      <td>2014.000000</td>\n",
       "      <td>2.000000</td>\n",
       "      <td>15.000000</td>\n",
       "      <td>5.000000</td>\n",
       "      <td>0.000000</td>\n",
       "      <td>0.000000</td>\n",
       "      <td>0.000000</td>\n",
       "      <td>0.000000</td>\n",
       "      <td>0.000000</td>\n",
       "      <td>0.000000</td>\n",
       "      <td>1.000000</td>\n",
       "      <td>0.000000</td>\n",
       "      <td>1.000000</td>\n",
       "    </tr>\n",
       "    <tr>\n",
       "      <th>max</th>\n",
       "      <td>577.000000</td>\n",
       "      <td>2016.000000</td>\n",
       "      <td>4.000000</td>\n",
       "      <td>20.000000</td>\n",
       "      <td>9.000000</td>\n",
       "      <td>1.000000</td>\n",
       "      <td>5.000000</td>\n",
       "      <td>4.000000</td>\n",
       "      <td>5.000000</td>\n",
       "      <td>5.000000</td>\n",
       "      <td>5.000000</td>\n",
       "      <td>6.000000</td>\n",
       "      <td>7.000000</td>\n",
       "      <td>7.000000</td>\n",
       "    </tr>\n",
       "  </tbody>\n",
       "</table>\n",
       "</div>"
      ],
      "text/plain": [
       "            match_id           year         inning           over  \\\n",
       "count  136598.000000  136598.000000  136598.000000  136598.000000   \n",
       "mean      288.564679    2012.024407       1.482738      10.144585   \n",
       "std       165.929865       2.475356       0.501575       5.673901   \n",
       "min         1.000000    2008.000000       1.000000       1.000000   \n",
       "25%       145.000000    2010.000000       1.000000       5.000000   \n",
       "50%       289.000000    2012.000000       1.000000      10.000000   \n",
       "75%       432.000000    2014.000000       2.000000      15.000000   \n",
       "max       577.000000    2016.000000       4.000000      20.000000   \n",
       "\n",
       "                ball  is_super_over      wide_runs       bye_runs  \\\n",
       "count  136598.000000  136598.000000  136598.000000  136598.000000   \n",
       "mean        3.617125       0.000498       0.037782       0.004978   \n",
       "std         1.808200       0.022306       0.260535       0.115512   \n",
       "min         1.000000       0.000000       0.000000       0.000000   \n",
       "25%         2.000000       0.000000       0.000000       0.000000   \n",
       "50%         4.000000       0.000000       0.000000       0.000000   \n",
       "75%         5.000000       0.000000       0.000000       0.000000   \n",
       "max         9.000000       1.000000       5.000000       4.000000   \n",
       "\n",
       "         legbye_runs    noball_runs   penalty_runs   batsman_runs  \\\n",
       "count  136598.000000  136598.000000  136598.000000  136598.000000   \n",
       "mean        0.022372       0.004480       0.000073       1.215311   \n",
       "std         0.201309       0.074062       0.019132       1.589654   \n",
       "min         0.000000       0.000000       0.000000       0.000000   \n",
       "25%         0.000000       0.000000       0.000000       0.000000   \n",
       "50%         0.000000       0.000000       0.000000       1.000000   \n",
       "75%         0.000000       0.000000       0.000000       1.000000   \n",
       "max         5.000000       5.000000       5.000000       6.000000   \n",
       "\n",
       "          extra_runs     total_runs  \n",
       "count  136598.000000  136598.000000  \n",
       "mean        0.069686       1.284997  \n",
       "std         0.353357       1.579014  \n",
       "min         0.000000       0.000000  \n",
       "25%         0.000000       0.000000  \n",
       "50%         0.000000       1.000000  \n",
       "75%         0.000000       1.000000  \n",
       "max         7.000000       7.000000  "
      ]
     },
     "execution_count": 19,
     "metadata": {},
     "output_type": "execute_result"
    }
   ],
   "source": [
    "df.describe() #statistical measures of all the numerical variables"
   ]
  },
  {
   "cell_type": "code",
   "execution_count": 21,
   "metadata": {},
   "outputs": [
    {
     "data": {
      "text/plain": [
       "1.284996852076897"
      ]
     },
     "execution_count": 21,
     "metadata": {},
     "output_type": "execute_result"
    }
   ],
   "source": [
    "df['total_runs'].mean()   #avg runs per ball"
   ]
  },
  {
   "cell_type": "code",
   "execution_count": 23,
   "metadata": {},
   "outputs": [
    {
     "data": {
      "text/plain": [
       "9"
      ]
     },
     "execution_count": 23,
     "metadata": {},
     "output_type": "execute_result"
    }
   ],
   "source": [
    "df['ball'].max() #maximum number of balls bowled in a over"
   ]
  },
  {
   "cell_type": "code",
   "execution_count": 33,
   "metadata": {},
   "outputs": [
    {
     "data": {
      "text/plain": [
       "<matplotlib.axes._subplots.AxesSubplot at 0x130dfc8dac8>"
      ]
     },
     "execution_count": 33,
     "metadata": {},
     "output_type": "execute_result"
    },
    {
     "data": {
      "image/png": "[encoded data removed]",
      "text/plain": [
       "<matplotlib.figure.Figure at 0x130df515ba8>"
      ]
     },
     "metadata": {},
     "output_type": "display_data"
    }
   ],
   "source": [
    "sns.distplot(df['total_runs']) #distribution plot using seaborn package"
   ]
  },
  {
   "cell_type": "code",
   "execution_count": 34,
   "metadata": {},
   "outputs": [
    {
     "name": "stdout",
     "output_type": "stream",
     "text": [
      "Skewness: 1.566651\n",
      "Kurtosis: 1.643257\n"
     ]
    }
   ],
   "source": [
    "#skewness and kurtosis\n",
    "print(\"Skewness: %f\" % df['total_runs'].skew())\n",
    "print(\"Kurtosis: %f\" % df['total_runs'].kurt())"
   ]
  },
  {
   "cell_type": "markdown",
   "metadata": {},
   "source": [
    "**For Categorical Variables**"
   ]
  },
  {
   "cell_type": "code",
   "execution_count": 24,
   "metadata": {},
   "outputs": [
    {
     "data": {
      "text/html": [
       "<div>\n",
       "<style>\n",
       "    .dataframe thead tr:only-child th {\n",
       "        text-align: right;\n",
       "    }\n",
       "\n",
       "    .dataframe thead th {\n",
       "        text-align: left;\n",
       "    }\n",
       "\n",
       "    .dataframe tbody tr th {\n",
       "        vertical-align: top;\n",
       "    }\n",
       "</style>\n",
       "<table border=\"1\" class=\"dataframe\">\n",
       "  <thead>\n",
       "    <tr style=\"text-align: right;\">\n",
       "      <th></th>\n",
       "      <th>batting_team</th>\n",
       "      <th>bowling_team</th>\n",
       "      <th>batsman</th>\n",
       "      <th>non_striker</th>\n",
       "      <th>bowler</th>\n",
       "      <th>player_dismissed</th>\n",
       "      <th>dismissal_kind</th>\n",
       "      <th>fielder</th>\n",
       "    </tr>\n",
       "  </thead>\n",
       "  <tbody>\n",
       "    <tr>\n",
       "      <th>count</th>\n",
       "      <td>136598</td>\n",
       "      <td>136598</td>\n",
       "      <td>136598</td>\n",
       "      <td>136598</td>\n",
       "      <td>136598</td>\n",
       "      <td>6727</td>\n",
       "      <td>6727</td>\n",
       "      <td>4871</td>\n",
       "    </tr>\n",
       "    <tr>\n",
       "      <th>unique</th>\n",
       "      <td>13</td>\n",
       "      <td>13</td>\n",
       "      <td>436</td>\n",
       "      <td>431</td>\n",
       "      <td>334</td>\n",
       "      <td>412</td>\n",
       "      <td>9</td>\n",
       "      <td>421</td>\n",
       "    </tr>\n",
       "    <tr>\n",
       "      <th>top</th>\n",
       "      <td>Mumbai Indians</td>\n",
       "      <td>Mumbai Indians</td>\n",
       "      <td>V Kohli</td>\n",
       "      <td>G Gambhir</td>\n",
       "      <td>Harbhajan Singh</td>\n",
       "      <td>SK Raina</td>\n",
       "      <td>caught</td>\n",
       "      <td>KD Karthik</td>\n",
       "    </tr>\n",
       "    <tr>\n",
       "      <th>freq</th>\n",
       "      <td>16890</td>\n",
       "      <td>16807</td>\n",
       "      <td>3237</td>\n",
       "      <td>3238</td>\n",
       "      <td>2742</td>\n",
       "      <td>123</td>\n",
       "      <td>3954</td>\n",
       "      <td>119</td>\n",
       "    </tr>\n",
       "  </tbody>\n",
       "</table>\n",
       "</div>"
      ],
      "text/plain": [
       "          batting_team    bowling_team  batsman non_striker           bowler  \\\n",
       "count           136598          136598   136598      136598           136598   \n",
       "unique              13              13      436         431              334   \n",
       "top     Mumbai Indians  Mumbai Indians  V Kohli   G Gambhir  Harbhajan Singh   \n",
       "freq             16890           16807     3237        3238             2742   \n",
       "\n",
       "       player_dismissed dismissal_kind     fielder  \n",
       "count              6727           6727        4871  \n",
       "unique              412              9         421  \n",
       "top            SK Raina         caught  KD Karthik  \n",
       "freq                123           3954         119  "
      ]
     },
     "execution_count": 24,
     "metadata": {},
     "output_type": "execute_result"
    }
   ],
   "source": [
    "df.describe(include=['O']) #describe function for categorical columns"
   ]
  },
  {
   "cell_type": "code",
   "execution_count": 26,
   "metadata": {},
   "outputs": [
    {
     "data": {
      "text/plain": [
       "Mumbai Indians                 16890\n",
       "Royal Challengers Bangalore    16142\n",
       "Kings XI Punjab                15991\n",
       "Chennai Super Kings            15754\n",
       "Delhi Daredevils               15535\n",
       "Kolkata Knight Riders          15463\n",
       "Rajasthan Royals               13914\n",
       "Deccan Chargers                 9034\n",
       "Sunrisers Hyderabad             7379\n",
       "Pune Warriors                   5443\n",
       "Gujarat Lions                   1891\n",
       "Kochi Tuskers Kerala            1582\n",
       "Rising Pune Supergiants         1580\n",
       "Name: batting_team, dtype: int64"
      ]
     },
     "execution_count": 26,
     "metadata": {},
     "output_type": "execute_result"
    }
   ],
   "source": [
    "df['batting_team'].value_counts() #Frequency table for the column 'batting_team'"
   ]
  },
  {
   "cell_type": "markdown",
   "metadata": {},
   "source": [
    "### 3. Bivariate Analysis"
   ]
  },
  {
   "cell_type": "markdown",
   "metadata": {},
   "source": [
    "**Correlation matrix (heat-map style)**"
   ]
  },
  {
   "cell_type": "code",
   "execution_count": 42,
   "metadata": {},
   "outputs": [
    {
     "data": {
      "text/plain": [
       "<matplotlib.axes._subplots.AxesSubplot at 0x130e07b3630>"
      ]
     },
     "execution_count": 42,
     "metadata": {},
     "output_type": "execute_result"
    },
    {
     "data": {
      "image/png": "[encoded data removed]",
      "text/plain": [
       "<matplotlib.figure.Figure at 0x130e089d4e0>"
      ]
     },
     "metadata": {},
     "output_type": "display_data"
    }
   ],
   "source": [
    "#correlation matrix\n",
    "corrmat = df.corr()\n",
    "f, ax = plt.subplots(figsize=(10,9)) #Change the size of plot,if this line is removed,you can see a smaller plot of default size\n",
    "sns.heatmap(corrmat)"
   ]
  },
  {
   "cell_type": "markdown",
   "metadata": {},
   "source": [
    "**Scatter plots**"
   ]
  },
  {
   "cell_type": "code",
   "execution_count": 52,
   "metadata": {},
   "outputs": [
    {
     "data": {
      "text/plain": [
       "<matplotlib.collections.PathCollection at 0x130e3de9748>"
      ]
     },
     "execution_count": 52,
     "metadata": {},
     "output_type": "execute_result"
    },
    {
     "data": {
      "image/png": "[encoded data removed]",
      "text/plain": [
       "<matplotlib.figure.Figure at 0x130e3a85048>"
      ]
     },
     "metadata": {},
     "output_type": "display_data"
    }
   ],
   "source": [
    "plt.scatter(df['over'],df['total_runs'])"
   ]
  },
  {
   "cell_type": "markdown",
   "metadata": {},
   "source": [
    "**Data aggregation for better understanding**"
   ]
  },
  {
   "cell_type": "code",
   "execution_count": 48,
   "metadata": {
    "collapsed": true
   },
   "outputs": [],
   "source": [
    "grouped = df.groupby('year').agg(sum)\n",
    "#the column used to groupby will become the new index"
   ]
  },
  {
   "cell_type": "code",
   "execution_count": 49,
   "metadata": {},
   "outputs": [
    {
     "data": {
      "text/html": [
       "<div>\n",
       "<style>\n",
       "    .dataframe thead tr:only-child th {\n",
       "        text-align: right;\n",
       "    }\n",
       "\n",
       "    .dataframe thead th {\n",
       "        text-align: left;\n",
       "    }\n",
       "\n",
       "    .dataframe tbody tr th {\n",
       "        vertical-align: top;\n",
       "    }\n",
       "</style>\n",
       "<table border=\"1\" class=\"dataframe\">\n",
       "  <thead>\n",
       "    <tr style=\"text-align: right;\">\n",
       "      <th></th>\n",
       "      <th>match_id</th>\n",
       "      <th>inning</th>\n",
       "      <th>over</th>\n",
       "      <th>ball</th>\n",
       "      <th>is_super_over</th>\n",
       "      <th>wide_runs</th>\n",
       "      <th>bye_runs</th>\n",
       "      <th>legbye_runs</th>\n",
       "      <th>noball_runs</th>\n",
       "      <th>penalty_runs</th>\n",
       "      <th>batsman_runs</th>\n",
       "      <th>extra_runs</th>\n",
       "      <th>total_runs</th>\n",
       "    </tr>\n",
       "    <tr>\n",
       "      <th>year</th>\n",
       "      <th></th>\n",
       "      <th></th>\n",
       "      <th></th>\n",
       "      <th></th>\n",
       "      <th></th>\n",
       "      <th></th>\n",
       "      <th></th>\n",
       "      <th></th>\n",
       "      <th></th>\n",
       "      <th></th>\n",
       "      <th></th>\n",
       "      <th></th>\n",
       "      <th></th>\n",
       "    </tr>\n",
       "  </thead>\n",
       "  <tbody>\n",
       "    <tr>\n",
       "      <th>2008</th>\n",
       "      <td>396570</td>\n",
       "      <td>19913</td>\n",
       "      <td>134400</td>\n",
       "      <td>49034</td>\n",
       "      <td>0</td>\n",
       "      <td>596</td>\n",
       "      <td>73</td>\n",
       "      <td>372</td>\n",
       "      <td>82</td>\n",
       "      <td>5</td>\n",
       "      <td>16809</td>\n",
       "      <td>1128</td>\n",
       "      <td>17937</td>\n",
       "    </tr>\n",
       "    <tr>\n",
       "      <th>2009</th>\n",
       "      <td>1190138</td>\n",
       "      <td>20206</td>\n",
       "      <td>138093</td>\n",
       "      <td>49368</td>\n",
       "      <td>11</td>\n",
       "      <td>523</td>\n",
       "      <td>77</td>\n",
       "      <td>299</td>\n",
       "      <td>78</td>\n",
       "      <td>0</td>\n",
       "      <td>15376</td>\n",
       "      <td>977</td>\n",
       "      <td>16353</td>\n",
       "    </tr>\n",
       "    <tr>\n",
       "      <th>2010</th>\n",
       "      <td>2107379</td>\n",
       "      <td>21518</td>\n",
       "      <td>147826</td>\n",
       "      <td>52620</td>\n",
       "      <td>9</td>\n",
       "      <td>639</td>\n",
       "      <td>82</td>\n",
       "      <td>334</td>\n",
       "      <td>74</td>\n",
       "      <td>0</td>\n",
       "      <td>17754</td>\n",
       "      <td>1129</td>\n",
       "      <td>18883</td>\n",
       "    </tr>\n",
       "    <tr>\n",
       "      <th>2011</th>\n",
       "      <td>3599353</td>\n",
       "      <td>25163</td>\n",
       "      <td>171283</td>\n",
       "      <td>61543</td>\n",
       "      <td>0</td>\n",
       "      <td>644</td>\n",
       "      <td>121</td>\n",
       "      <td>375</td>\n",
       "      <td>86</td>\n",
       "      <td>0</td>\n",
       "      <td>19928</td>\n",
       "      <td>1226</td>\n",
       "      <td>21154</td>\n",
       "    </tr>\n",
       "    <tr>\n",
       "      <th>2012</th>\n",
       "      <td>5077244</td>\n",
       "      <td>26438</td>\n",
       "      <td>182051</td>\n",
       "      <td>64074</td>\n",
       "      <td>0</td>\n",
       "      <td>609</td>\n",
       "      <td>88</td>\n",
       "      <td>371</td>\n",
       "      <td>63</td>\n",
       "      <td>0</td>\n",
       "      <td>21322</td>\n",
       "      <td>1131</td>\n",
       "      <td>22453</td>\n",
       "    </tr>\n",
       "    <tr>\n",
       "      <th>2013</th>\n",
       "      <td>6548295</td>\n",
       "      <td>27075</td>\n",
       "      <td>185760</td>\n",
       "      <td>65417</td>\n",
       "      <td>25</td>\n",
       "      <td>591</td>\n",
       "      <td>73</td>\n",
       "      <td>386</td>\n",
       "      <td>65</td>\n",
       "      <td>0</td>\n",
       "      <td>21487</td>\n",
       "      <td>1115</td>\n",
       "      <td>22602</td>\n",
       "    </tr>\n",
       "    <tr>\n",
       "      <th>2014</th>\n",
       "      <td>6127701</td>\n",
       "      <td>21244</td>\n",
       "      <td>145730</td>\n",
       "      <td>51548</td>\n",
       "      <td>12</td>\n",
       "      <td>488</td>\n",
       "      <td>67</td>\n",
       "      <td>372</td>\n",
       "      <td>56</td>\n",
       "      <td>5</td>\n",
       "      <td>17943</td>\n",
       "      <td>988</td>\n",
       "      <td>18931</td>\n",
       "    </tr>\n",
       "    <tr>\n",
       "      <th>2015</th>\n",
       "      <td>6653516</td>\n",
       "      <td>20162</td>\n",
       "      <td>138162</td>\n",
       "      <td>49542</td>\n",
       "      <td>11</td>\n",
       "      <td>533</td>\n",
       "      <td>52</td>\n",
       "      <td>286</td>\n",
       "      <td>55</td>\n",
       "      <td>0</td>\n",
       "      <td>17427</td>\n",
       "      <td>926</td>\n",
       "      <td>18353</td>\n",
       "    </tr>\n",
       "    <tr>\n",
       "      <th>2016</th>\n",
       "      <td>7717162</td>\n",
       "      <td>20820</td>\n",
       "      <td>142425</td>\n",
       "      <td>50946</td>\n",
       "      <td>0</td>\n",
       "      <td>538</td>\n",
       "      <td>47</td>\n",
       "      <td>261</td>\n",
       "      <td>53</td>\n",
       "      <td>0</td>\n",
       "      <td>17963</td>\n",
       "      <td>899</td>\n",
       "      <td>18862</td>\n",
       "    </tr>\n",
       "  </tbody>\n",
       "</table>\n",
       "</div>"
      ],
      "text/plain": [
       "      match_id  inning    over   ball  is_super_over  wide_runs  bye_runs  \\\n",
       "year                                                                        \n",
       "2008    396570   19913  134400  49034              0        596        73   \n",
       "2009   1190138   20206  138093  49368             11        523        77   \n",
       "2010   2107379   21518  147826  52620              9        639        82   \n",
       "2011   3599353   25163  171283  61543              0        644       121   \n",
       "2012   5077244   26438  182051  64074              0        609        88   \n",
       "2013   6548295   27075  185760  65417             25        591        73   \n",
       "2014   6127701   21244  145730  51548             12        488        67   \n",
       "2015   6653516   20162  138162  49542             11        533        52   \n",
       "2016   7717162   20820  142425  50946              0        538        47   \n",
       "\n",
       "      legbye_runs  noball_runs  penalty_runs  batsman_runs  extra_runs  \\\n",
       "year                                                                     \n",
       "2008          372           82             5         16809        1128   \n",
       "2009          299           78             0         15376         977   \n",
       "2010          334           74             0         17754        1129   \n",
       "2011          375           86             0         19928        1226   \n",
       "2012          371           63             0         21322        1131   \n",
       "2013          386           65             0         21487        1115   \n",
       "2014          372           56             5         17943         988   \n",
       "2015          286           55             0         17427         926   \n",
       "2016          261           53             0         17963         899   \n",
       "\n",
       "      total_runs  \n",
       "year              \n",
       "2008       17937  \n",
       "2009       16353  \n",
       "2010       18883  \n",
       "2011       21154  \n",
       "2012       22453  \n",
       "2013       22602  \n",
       "2014       18931  \n",
       "2015       18353  \n",
       "2016       18862  "
      ]
     },
     "execution_count": 49,
     "metadata": {},
     "output_type": "execute_result"
    }
   ],
   "source": [
    "grouped"
   ]
  },
  {
   "cell_type": "code",
   "execution_count": 50,
   "metadata": {},
   "outputs": [
    {
     "data": {
      "text/plain": [
       "<matplotlib.collections.PathCollection at 0x130e3a79048>"
      ]
     },
     "execution_count": 50,
     "metadata": {},
     "output_type": "execute_result"
    },
    {
     "data": {
      "image/png": "[encoded data removed]",
      "text/plain": [
       "<matplotlib.figure.Figure at 0x130e0cb2a20>"
      ]
     },
     "metadata": {},
     "output_type": "display_data"
    }
   ],
   "source": [
    "#sample scatter plot\n",
    "plt.scatter(grouped.index,grouped['total_runs'])"
   ]
  },
  {
   "cell_type": "markdown",
   "metadata": {},
   "source": [
    "**Two-way table for categorical variables**"
   ]
  },
  {
   "cell_type": "code",
   "execution_count": 55,
   "metadata": {},
   "outputs": [
    {
     "data": {
      "text/html": [
       "<div>\n",
       "<style>\n",
       "    .dataframe thead tr:only-child th {\n",
       "        text-align: right;\n",
       "    }\n",
       "\n",
       "    .dataframe thead th {\n",
       "        text-align: left;\n",
       "    }\n",
       "\n",
       "    .dataframe tbody tr th {\n",
       "        vertical-align: top;\n",
       "    }\n",
       "</style>\n",
       "<table border=\"1\" class=\"dataframe\">\n",
       "  <thead>\n",
       "    <tr style=\"text-align: right;\">\n",
       "      <th>bowling_team</th>\n",
       "      <th>Chennai Super Kings</th>\n",
       "      <th>Deccan Chargers</th>\n",
       "      <th>Delhi Daredevils</th>\n",
       "      <th>Gujarat Lions</th>\n",
       "      <th>Kings XI Punjab</th>\n",
       "      <th>Kochi Tuskers Kerala</th>\n",
       "      <th>Kolkata Knight Riders</th>\n",
       "      <th>Mumbai Indians</th>\n",
       "      <th>Pune Warriors</th>\n",
       "      <th>Rajasthan Royals</th>\n",
       "      <th>Rising Pune Supergiants</th>\n",
       "      <th>Royal Challengers Bangalore</th>\n",
       "      <th>Sunrisers Hyderabad</th>\n",
       "    </tr>\n",
       "    <tr>\n",
       "      <th>batting_team</th>\n",
       "      <th></th>\n",
       "      <th></th>\n",
       "      <th></th>\n",
       "      <th></th>\n",
       "      <th></th>\n",
       "      <th></th>\n",
       "      <th></th>\n",
       "      <th></th>\n",
       "      <th></th>\n",
       "      <th></th>\n",
       "      <th></th>\n",
       "      <th></th>\n",
       "      <th></th>\n",
       "    </tr>\n",
       "  </thead>\n",
       "  <tbody>\n",
       "    <tr>\n",
       "      <th>Chennai Super Kings</th>\n",
       "      <td>0</td>\n",
       "      <td>1242</td>\n",
       "      <td>1947</td>\n",
       "      <td>0</td>\n",
       "      <td>2040</td>\n",
       "      <td>226</td>\n",
       "      <td>1819</td>\n",
       "      <td>2685</td>\n",
       "      <td>734</td>\n",
       "      <td>2069</td>\n",
       "      <td>0</td>\n",
       "      <td>2251</td>\n",
       "      <td>741</td>\n",
       "    </tr>\n",
       "    <tr>\n",
       "      <th>Deccan Chargers</th>\n",
       "      <td>1171</td>\n",
       "      <td>0</td>\n",
       "      <td>1338</td>\n",
       "      <td>0</td>\n",
       "      <td>1226</td>\n",
       "      <td>125</td>\n",
       "      <td>1070</td>\n",
       "      <td>1156</td>\n",
       "      <td>485</td>\n",
       "      <td>1111</td>\n",
       "      <td>0</td>\n",
       "      <td>1352</td>\n",
       "      <td>0</td>\n",
       "    </tr>\n",
       "    <tr>\n",
       "      <th>Delhi Daredevils</th>\n",
       "      <td>1840</td>\n",
       "      <td>1290</td>\n",
       "      <td>0</td>\n",
       "      <td>227</td>\n",
       "      <td>1983</td>\n",
       "      <td>250</td>\n",
       "      <td>1979</td>\n",
       "      <td>2102</td>\n",
       "      <td>659</td>\n",
       "      <td>1893</td>\n",
       "      <td>249</td>\n",
       "      <td>2092</td>\n",
       "      <td>971</td>\n",
       "    </tr>\n",
       "    <tr>\n",
       "      <th>Gujarat Lions</th>\n",
       "      <td>0</td>\n",
       "      <td>0</td>\n",
       "      <td>244</td>\n",
       "      <td>0</td>\n",
       "      <td>232</td>\n",
       "      <td>0</td>\n",
       "      <td>198</td>\n",
       "      <td>235</td>\n",
       "      <td>0</td>\n",
       "      <td>0</td>\n",
       "      <td>240</td>\n",
       "      <td>369</td>\n",
       "      <td>373</td>\n",
       "    </tr>\n",
       "    <tr>\n",
       "      <th>Kings XI Punjab</th>\n",
       "      <td>2051</td>\n",
       "      <td>1208</td>\n",
       "      <td>2042</td>\n",
       "      <td>246</td>\n",
       "      <td>0</td>\n",
       "      <td>118</td>\n",
       "      <td>2334</td>\n",
       "      <td>2214</td>\n",
       "      <td>672</td>\n",
       "      <td>1858</td>\n",
       "      <td>237</td>\n",
       "      <td>2038</td>\n",
       "      <td>973</td>\n",
       "    </tr>\n",
       "    <tr>\n",
       "      <th>Kochi Tuskers Kerala</th>\n",
       "      <td>219</td>\n",
       "      <td>103</td>\n",
       "      <td>215</td>\n",
       "      <td>0</td>\n",
       "      <td>129</td>\n",
       "      <td>0</td>\n",
       "      <td>248</td>\n",
       "      <td>121</td>\n",
       "      <td>123</td>\n",
       "      <td>171</td>\n",
       "      <td>0</td>\n",
       "      <td>253</td>\n",
       "      <td>0</td>\n",
       "    </tr>\n",
       "    <tr>\n",
       "      <th>Kolkata Knight Riders</th>\n",
       "      <td>1881</td>\n",
       "      <td>1112</td>\n",
       "      <td>1995</td>\n",
       "      <td>248</td>\n",
       "      <td>2185</td>\n",
       "      <td>244</td>\n",
       "      <td>0</td>\n",
       "      <td>2137</td>\n",
       "      <td>601</td>\n",
       "      <td>1794</td>\n",
       "      <td>158</td>\n",
       "      <td>2100</td>\n",
       "      <td>1008</td>\n",
       "    </tr>\n",
       "    <tr>\n",
       "      <th>Mumbai Indians</th>\n",
       "      <td>2662</td>\n",
       "      <td>1241</td>\n",
       "      <td>2224</td>\n",
       "      <td>252</td>\n",
       "      <td>2152</td>\n",
       "      <td>126</td>\n",
       "      <td>2100</td>\n",
       "      <td>0</td>\n",
       "      <td>731</td>\n",
       "      <td>1915</td>\n",
       "      <td>239</td>\n",
       "      <td>2314</td>\n",
       "      <td>934</td>\n",
       "    </tr>\n",
       "    <tr>\n",
       "      <th>Pune Warriors</th>\n",
       "      <td>736</td>\n",
       "      <td>486</td>\n",
       "      <td>622</td>\n",
       "      <td>0</td>\n",
       "      <td>679</td>\n",
       "      <td>123</td>\n",
       "      <td>615</td>\n",
       "      <td>727</td>\n",
       "      <td>0</td>\n",
       "      <td>610</td>\n",
       "      <td>0</td>\n",
       "      <td>616</td>\n",
       "      <td>229</td>\n",
       "    </tr>\n",
       "    <tr>\n",
       "      <th>Rajasthan Royals</th>\n",
       "      <td>2032</td>\n",
       "      <td>1049</td>\n",
       "      <td>1929</td>\n",
       "      <td>0</td>\n",
       "      <td>1825</td>\n",
       "      <td>199</td>\n",
       "      <td>1824</td>\n",
       "      <td>1919</td>\n",
       "      <td>584</td>\n",
       "      <td>0</td>\n",
       "      <td>0</td>\n",
       "      <td>1718</td>\n",
       "      <td>835</td>\n",
       "    </tr>\n",
       "    <tr>\n",
       "      <th>Rising Pune Supergiants</th>\n",
       "      <td>0</td>\n",
       "      <td>0</td>\n",
       "      <td>192</td>\n",
       "      <td>245</td>\n",
       "      <td>250</td>\n",
       "      <td>0</td>\n",
       "      <td>228</td>\n",
       "      <td>219</td>\n",
       "      <td>0</td>\n",
       "      <td>0</td>\n",
       "      <td>0</td>\n",
       "      <td>252</td>\n",
       "      <td>194</td>\n",
       "    </tr>\n",
       "    <tr>\n",
       "      <th>Royal Challengers Bangalore</th>\n",
       "      <td>2231</td>\n",
       "      <td>1308</td>\n",
       "      <td>1887</td>\n",
       "      <td>359</td>\n",
       "      <td>2112</td>\n",
       "      <td>203</td>\n",
       "      <td>2014</td>\n",
       "      <td>2328</td>\n",
       "      <td>621</td>\n",
       "      <td>1815</td>\n",
       "      <td>246</td>\n",
       "      <td>0</td>\n",
       "      <td>1018</td>\n",
       "    </tr>\n",
       "    <tr>\n",
       "      <th>Sunrisers Hyderabad</th>\n",
       "      <td>739</td>\n",
       "      <td>0</td>\n",
       "      <td>846</td>\n",
       "      <td>328</td>\n",
       "      <td>964</td>\n",
       "      <td>0</td>\n",
       "      <td>1109</td>\n",
       "      <td>964</td>\n",
       "      <td>247</td>\n",
       "      <td>875</td>\n",
       "      <td>246</td>\n",
       "      <td>1061</td>\n",
       "      <td>0</td>\n",
       "    </tr>\n",
       "  </tbody>\n",
       "</table>\n",
       "</div>"
      ],
      "text/plain": [
       "bowling_team                 Chennai Super Kings  Deccan Chargers  \\\n",
       "batting_team                                                        \n",
       "Chennai Super Kings                            0             1242   \n",
       "Deccan Chargers                             1171                0   \n",
       "Delhi Daredevils                            1840             1290   \n",
       "Gujarat Lions                                  0                0   \n",
       "Kings XI Punjab                             2051             1208   \n",
       "Kochi Tuskers Kerala                         219              103   \n",
       "Kolkata Knight Riders                       1881             1112   \n",
       "Mumbai Indians                              2662             1241   \n",
       "Pune Warriors                                736              486   \n",
       "Rajasthan Royals                            2032             1049   \n",
       "Rising Pune Supergiants                        0                0   \n",
       "Royal Challengers Bangalore                 2231             1308   \n",
       "Sunrisers Hyderabad                          739                0   \n",
       "\n",
       "bowling_team                 Delhi Daredevils  Gujarat Lions  Kings XI Punjab  \\\n",
       "batting_team                                                                    \n",
       "Chennai Super Kings                      1947              0             2040   \n",
       "Deccan Chargers                          1338              0             1226   \n",
       "Delhi Daredevils                            0            227             1983   \n",
       "Gujarat Lions                             244              0              232   \n",
       "Kings XI Punjab                          2042            246                0   \n",
       "Kochi Tuskers Kerala                      215              0              129   \n",
       "Kolkata Knight Riders                    1995            248             2185   \n",
       "Mumbai Indians                           2224            252             2152   \n",
       "Pune Warriors                             622              0              679   \n",
       "Rajasthan Royals                         1929              0             1825   \n",
       "Rising Pune Supergiants                   192            245              250   \n",
       "Royal Challengers Bangalore              1887            359             2112   \n",
       "Sunrisers Hyderabad                       846            328              964   \n",
       "\n",
       "bowling_team                 Kochi Tuskers Kerala  Kolkata Knight Riders  \\\n",
       "batting_team                                                               \n",
       "Chennai Super Kings                           226                   1819   \n",
       "Deccan Chargers                               125                   1070   \n",
       "Delhi Daredevils                              250                   1979   \n",
       "Gujarat Lions                                   0                    198   \n",
       "Kings XI Punjab                               118                   2334   \n",
       "Kochi Tuskers Kerala                            0                    248   \n",
       "Kolkata Knight Riders                         244                      0   \n",
       "Mumbai Indians                                126                   2100   \n",
       "Pune Warriors                                 123                    615   \n",
       "Rajasthan Royals                              199                   1824   \n",
       "Rising Pune Supergiants                         0                    228   \n",
       "Royal Challengers Bangalore                   203                   2014   \n",
       "Sunrisers Hyderabad                             0                   1109   \n",
       "\n",
       "bowling_team                 Mumbai Indians  Pune Warriors  Rajasthan Royals  \\\n",
       "batting_team                                                                   \n",
       "Chennai Super Kings                    2685            734              2069   \n",
       "Deccan Chargers                        1156            485              1111   \n",
       "Delhi Daredevils                       2102            659              1893   \n",
       "Gujarat Lions                           235              0                 0   \n",
       "Kings XI Punjab                        2214            672              1858   \n",
       "Kochi Tuskers Kerala                    121            123               171   \n",
       "Kolkata Knight Riders                  2137            601              1794   \n",
       "Mumbai Indians                            0            731              1915   \n",
       "Pune Warriors                           727              0               610   \n",
       "Rajasthan Royals                       1919            584                 0   \n",
       "Rising Pune Supergiants                 219              0                 0   \n",
       "Royal Challengers Bangalore            2328            621              1815   \n",
       "Sunrisers Hyderabad                     964            247               875   \n",
       "\n",
       "bowling_team                 Rising Pune Supergiants  \\\n",
       "batting_team                                           \n",
       "Chennai Super Kings                                0   \n",
       "Deccan Chargers                                    0   \n",
       "Delhi Daredevils                                 249   \n",
       "Gujarat Lions                                    240   \n",
       "Kings XI Punjab                                  237   \n",
       "Kochi Tuskers Kerala                               0   \n",
       "Kolkata Knight Riders                            158   \n",
       "Mumbai Indians                                   239   \n",
       "Pune Warriors                                      0   \n",
       "Rajasthan Royals                                   0   \n",
       "Rising Pune Supergiants                            0   \n",
       "Royal Challengers Bangalore                      246   \n",
       "Sunrisers Hyderabad                              246   \n",
       "\n",
       "bowling_team                 Royal Challengers Bangalore  Sunrisers Hyderabad  \n",
       "batting_team                                                                   \n",
       "Chennai Super Kings                                 2251                  741  \n",
       "Deccan Chargers                                     1352                    0  \n",
       "Delhi Daredevils                                    2092                  971  \n",
       "Gujarat Lions                                        369                  373  \n",
       "Kings XI Punjab                                     2038                  973  \n",
       "Kochi Tuskers Kerala                                 253                    0  \n",
       "Kolkata Knight Riders                               2100                 1008  \n",
       "Mumbai Indians                                      2314                  934  \n",
       "Pune Warriors                                        616                  229  \n",
       "Rajasthan Royals                                    1718                  835  \n",
       "Rising Pune Supergiants                              252                  194  \n",
       "Royal Challengers Bangalore                            0                 1018  \n",
       "Sunrisers Hyderabad                                 1061                    0  "
      ]
     },
     "execution_count": 55,
     "metadata": {},
     "output_type": "execute_result"
    }
   ],
   "source": [
    "pd.crosstab(df['batting_team'],df['bowling_team'])"
   ]
  },
  {
   "cell_type": "markdown",
   "metadata": {},
   "source": [
    "### 4. Outlier Detection"
   ]
  },
  {
   "cell_type": "markdown",
   "metadata": {},
   "source": [
    "**Box plots are used to find outliers for each variable.<br>\n",
    "To find multivariate outlier, Use scatter plot**"
   ]
  },
  {
   "cell_type": "code",
   "execution_count": 62,
   "metadata": {},
   "outputs": [
    {
     "data": {
      "text/plain": [
       "<matplotlib.axes._subplots.AxesSubplot at 0x130e471a198>"
      ]
     },
     "execution_count": 62,
     "metadata": {},
     "output_type": "execute_result"
    },
    {
     "data": {
      "image/png": "[encoded data removed]",
      "text/plain": [
       "<matplotlib.figure.Figure at 0x130e48aadd8>"
      ]
     },
     "metadata": {},
     "output_type": "display_data"
    }
   ],
   "source": [
    "sns.boxplot(df['total_runs'],orient='v')"
   ]
  },
  {
   "cell_type": "markdown",
   "metadata": {},
   "source": [
    "# 5. Feature Scaling"
   ]
  },
  {
   "cell_type": "code",
   "execution_count": 69,
   "metadata": {
    "collapsed": true
   },
   "outputs": [],
   "source": [
    "from sklearn import preprocessing\n",
    "num_var = ['wide_runs','bye_runs','legbye_runs'] #list of variables to be scaled\n",
    "scaler = preprocessing.StandardScaler().fit(df[num_var]) #This will store mean and std of required variables in scaler object\n",
    "df_scaled = scaler.transform(df[num_var])  #Use .transform to use the stored mean and std for normalization\n",
    "df_scaled = pd.DataFrame(df_scaled,columns=num_var)"
   ]
  },
  {
   "cell_type": "code",
   "execution_count": 71,
   "metadata": {},
   "outputs": [
    {
     "data": {
      "text/html": [
       "<div>\n",
       "<style>\n",
       "    .dataframe thead tr:only-child th {\n",
       "        text-align: right;\n",
       "    }\n",
       "\n",
       "    .dataframe thead th {\n",
       "        text-align: left;\n",
       "    }\n",
       "\n",
       "    .dataframe tbody tr th {\n",
       "        vertical-align: top;\n",
       "    }\n",
       "</style>\n",
       "<table border=\"1\" class=\"dataframe\">\n",
       "  <thead>\n",
       "    <tr style=\"text-align: right;\">\n",
       "      <th></th>\n",
       "      <th>wide_runs</th>\n",
       "      <th>bye_runs</th>\n",
       "      <th>legbye_runs</th>\n",
       "    </tr>\n",
       "  </thead>\n",
       "  <tbody>\n",
       "    <tr>\n",
       "      <th>0</th>\n",
       "      <td>-0.145019</td>\n",
       "      <td>-0.043096</td>\n",
       "      <td>4.856374</td>\n",
       "    </tr>\n",
       "    <tr>\n",
       "      <th>1</th>\n",
       "      <td>-0.145019</td>\n",
       "      <td>-0.043096</td>\n",
       "      <td>-0.111134</td>\n",
       "    </tr>\n",
       "    <tr>\n",
       "      <th>2</th>\n",
       "      <td>3.693249</td>\n",
       "      <td>-0.043096</td>\n",
       "      <td>-0.111134</td>\n",
       "    </tr>\n",
       "    <tr>\n",
       "      <th>3</th>\n",
       "      <td>-0.145019</td>\n",
       "      <td>-0.043096</td>\n",
       "      <td>-0.111134</td>\n",
       "    </tr>\n",
       "    <tr>\n",
       "      <th>4</th>\n",
       "      <td>-0.145019</td>\n",
       "      <td>-0.043096</td>\n",
       "      <td>-0.111134</td>\n",
       "    </tr>\n",
       "  </tbody>\n",
       "</table>\n",
       "</div>"
      ],
      "text/plain": [
       "   wide_runs  bye_runs  legbye_runs\n",
       "0  -0.145019 -0.043096     4.856374\n",
       "1  -0.145019 -0.043096    -0.111134\n",
       "2   3.693249 -0.043096    -0.111134\n",
       "3  -0.145019 -0.043096    -0.111134\n",
       "4  -0.145019 -0.043096    -0.111134"
      ]
     },
     "execution_count": 71,
     "metadata": {},
     "output_type": "execute_result"
    }
   ],
   "source": [
    "df_scaled.head()"
   ]
  },
  {
   "cell_type": "markdown",
   "metadata": {},
   "source": [
    "# 6. Missing Value Imputation"
   ]
  },
  {
   "cell_type": "markdown",
   "metadata": {},
   "source": [
    "The most commonly used methods for missing value imputation are:<br>\n",
    "1. **Mean, Median** - For Continuous variables<br>\n",
    "2. **Mode** - For Categorical variables<br>"
   ]
  },
  {
   "cell_type": "code",
   "execution_count": 75,
   "metadata": {
    "collapsed": true
   },
   "outputs": [],
   "source": [
    "# Impute the column 'fielder' with mode as it is a categorical column\n",
    "#check that we wrote .mode()[0] as the mode function returns an array of values\n",
    "df['fielder'].fillna(df['fielder'].mode()[0],inplace=True) #inplace parameter fills the value in the original dataframe"
   ]
  },
  {
   "cell_type": "code",
   "execution_count": null,
   "metadata": {
    "collapsed": true
   },
   "outputs": [],
   "source": []
  }
 ],
 "metadata": {
  "kernelspec": {
   "display_name": "Python 2",
   "language": "python",
   "name": "python2"
  },
  "language_info": {
   "codemirror_mode": {
    "name": "ipython",
    "version": 2
   },
   "file_extension": ".py",
   "mimetype": "text/x-python",
   "name": "python",
   "nbconvert_exporter": "python",
   "pygments_lexer": "ipython2",
   "version": "2.7.12"
  }
 },
 "nbformat": 4,
 "nbformat_minor": 2
}
